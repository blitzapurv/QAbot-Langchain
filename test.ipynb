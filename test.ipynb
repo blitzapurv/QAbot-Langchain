{
 "cells": [
  {
   "cell_type": "code",
   "execution_count": 1,
   "metadata": {},
   "outputs": [
    {
     "name": "stdout",
     "output_type": "stream",
     "text": [
      "Sat Feb 17 22:54:30 2024       \n",
      "+-----------------------------------------------------------------------------+\n",
      "| NVIDIA-SMI 525.112      Driver Version: 528.92       CUDA Version: 12.0     |\n",
      "|-------------------------------+----------------------+----------------------+\n",
      "| GPU  Name        Persistence-M| Bus-Id        Disp.A | Volatile Uncorr. ECC |\n",
      "| Fan  Temp  Perf  Pwr:Usage/Cap|         Memory-Usage | GPU-Util  Compute M. |\n",
      "|                               |                      |               MIG M. |\n",
      "|===============================+======================+======================|\n",
      "|   0  NVIDIA GeForce ...  On   | 00000000:01:00.0  On |                  N/A |\n",
      "| N/A   36C    P8    16W / 120W |    689MiB /  8192MiB |     14%      Default |\n",
      "|                               |                      |                  N/A |\n",
      "+-------------------------------+----------------------+----------------------+\n",
      "                                                                               \n",
      "+-----------------------------------------------------------------------------+\n",
      "| Processes:                                                                  |\n",
      "|  GPU   GI   CI        PID   Type   Process name                  GPU Memory |\n",
      "|        ID   ID                                                   Usage      |\n",
      "|=============================================================================|\n",
      "|  No running processes found                                                 |\n",
      "+-----------------------------------------------------------------------------+\n"
     ]
    }
   ],
   "source": [
    "!nvidia-smi"
   ]
  },
  {
   "cell_type": "code",
   "execution_count": 5,
   "metadata": {},
   "outputs": [
    {
     "name": "stdout",
     "output_type": "stream",
     "text": [
      "creating data folder again..\n"
     ]
    }
   ],
   "source": [
    "import os, shutil\n",
    "from langchain.document_loaders import TextLoader\n",
    "from langchain_community.document_loaders import PyPDFLoader\n",
    "from langchain.docstore.document import Document\n",
    "from langchain.text_splitter import NLTKTextSplitter, CharacterTextSplitter, RecursiveCharacterTextSplitter\n",
    "\n",
    "\n",
    "doc_dir = \"data/text_chunks\"\n",
    "\n",
    "n = 2500\n",
    "m = 500\n",
    "\n",
    "preprocessor = RecursiveCharacterTextSplitter(\n",
    "    chunk_size=n,\n",
    "    chunk_overlap=m,\n",
    "    # separators=[\" \"],\n",
    "    keep_separator=False,\n",
    "    add_start_index=False,\n",
    "    strip_whitespace=False\n",
    ")\n",
    "\n",
    "file_path = './sample_pdf.pdf'\n",
    "loader = PyPDFLoader(file_path)\n",
    "pages = loader.load()\n",
    "# converting text to langchain document format\n",
    "converted_doc = [Document(\"\".join([page.page_content for page in pages]))]\n",
    "# splitting document into chunks\n",
    "docs = preprocessor.split_documents(converted_doc)\n",
    "\n",
    "\n",
    "## OPTIONAL PART ##\n",
    "try:\n",
    "  shutil.rmtree(doc_dir)\n",
    "  print(\"creating data folder again..\")\n",
    "except:\n",
    "  print(\"creating data folder..\")\n",
    "\n",
    "os.makedirs(doc_dir)\n",
    "\n",
    "chunks = [k.page_content for k in docs]\n",
    "for chunk_id in range(len(chunks)):\n",
    "  text_file_path = f'{doc_dir}/{chunk_id}.txt'\n",
    "  with open(text_file_path, 'w') as f:\n",
    "      f.write(chunks[chunk_id])"
   ]
  },
  {
   "cell_type": "code",
   "execution_count": 6,
   "metadata": {},
   "outputs": [
    {
     "data": {
      "text/plain": [
       "5"
      ]
     },
     "execution_count": 6,
     "metadata": {},
     "output_type": "execute_result"
    }
   ],
   "source": [
    "len(docs)"
   ]
  },
  {
   "cell_type": "code",
   "execution_count": 7,
   "metadata": {},
   "outputs": [
    {
     "data": {
      "text/plain": [
       "(2434, 385)"
      ]
     },
     "execution_count": 7,
     "metadata": {},
     "output_type": "execute_result"
    }
   ],
   "source": [
    "len(docs[1].page_content), len(docs[1].page_content.split())"
   ]
  },
  {
   "cell_type": "code",
   "execution_count": 8,
   "metadata": {},
   "outputs": [
    {
     "name": "stderr",
     "output_type": "stream",
     "text": [
      "/home/apurva/anaconda3/envs/nlp/lib/python3.10/site-packages/tqdm/auto.py:21: TqdmWarning: IProgress not found. Please update jupyter and ipywidgets. See https://ipywidgets.readthedocs.io/en/stable/user_install.html\n",
      "  from .autonotebook import tqdm as notebook_tqdm\n"
     ]
    }
   ],
   "source": [
    "####\n",
    "# initializing document store\n",
    "\n",
    "from langchain_community.embeddings import HuggingFaceEmbeddings\n",
    "from langchain_community.embeddings import OllamaEmbeddings\n",
    "from langchain.vectorstores import Chroma, FAISS\n",
    "\n",
    "\n",
    "# embeddings = OpenAIEmbeddings(\n",
    "#     model=\"text-embedding-ada-002\",\n",
    "# )\n",
    "embeddings = HuggingFaceEmbeddings(model_name=\"all-MiniLM-L6-v2\")\n",
    "\n",
    "# db = Chroma.from_documents(docs, embeddings)\n",
    "db = FAISS.from_documents(docs, embeddings)\n",
    "\n",
    "retriever = db.as_retriever(search_type=\"similarity\", search_kwargs={\"k\":3})"
   ]
  },
  {
   "cell_type": "code",
   "execution_count": 9,
   "metadata": {},
   "outputs": [
    {
     "name": "stderr",
     "output_type": "stream",
     "text": [
      "CUDA extension not installed.\n"
     ]
    }
   ],
   "source": [
    "import torch\n",
    "from langchain import HuggingFacePipeline\n",
    "from transformers import AutoModelForCausalLM, AutoTokenizer, GenerationConfig, pipeline\n",
    "from langchain.llms import OpenAI, OpenAIChat\n",
    "from langchain.chat_models import ChatOpenAI\n",
    "from langchain.chains import RetrievalQA\n",
    "\n",
    "MODEL_NAME = \"TheBloke/Llama-2-7b-Chat-GPTQ\"\n",
    " \n",
    "tokenizer = AutoTokenizer.from_pretrained(MODEL_NAME, use_fast=True)\n",
    " \n",
    "model = AutoModelForCausalLM.from_pretrained(\n",
    "    MODEL_NAME, torch_dtype=torch.float16, trust_remote_code=True, device_map=\"auto\"\n",
    ")"
   ]
  },
  {
   "cell_type": "code",
   "execution_count": 10,
   "metadata": {},
   "outputs": [
    {
     "data": {
      "text/plain": [
       "device(type='cuda', index=0)"
      ]
     },
     "execution_count": 10,
     "metadata": {},
     "output_type": "execute_result"
    }
   ],
   "source": [
    "model.device"
   ]
  },
  {
   "cell_type": "code",
   "execution_count": 11,
   "metadata": {},
   "outputs": [],
   "source": [
    "generation_config = GenerationConfig.from_pretrained(MODEL_NAME)\n",
    "generation_config.max_new_tokens = 1024\n",
    "generation_config.temperature = 0.0001\n",
    "generation_config.top_p = 0.95\n",
    "generation_config.do_sample = True\n",
    "generation_config.repetition_penalty = 1.15\n",
    " \n",
    "text_pipeline = pipeline(\n",
    "    \"text-generation\",\n",
    "    model=model,\n",
    "    tokenizer=tokenizer,\n",
    "    generation_config=generation_config,\n",
    ")\n",
    " \n",
    "llm = HuggingFacePipeline(pipeline=text_pipeline, model_kwargs={\"temperature\": 0.1})"
   ]
  },
  {
   "cell_type": "code",
   "execution_count": 12,
   "metadata": {},
   "outputs": [
    {
     "name": "stdout",
     "output_type": "stream",
     "text": [
      "\n",
      "ChatGPT is an AI-powered chatbot developed by Meta AI that can understand and respond to user input in a conversational manner. Open source LLMs, on the other hand, are language models that are available for anyone to use and modify, with some examples including BERT, RoBERTa, and XLNet. While both types of models have their own strengths and weaknesses, they differ in terms of their architecture, training data, and licensing restrictions.\n"
     ]
    }
   ],
   "source": [
    "result = llm.invoke(\n",
    "    \"Explain the difference between ChatGPT and open source LLMs in a couple of lines.\"\n",
    ")\n",
    "print(result)"
   ]
  },
  {
   "cell_type": "code",
   "execution_count": 10,
   "metadata": {},
   "outputs": [],
   "source": [
    "from langchain.prompts import PromptTemplate\n",
    "\n",
    "# Build prompt\n",
    "prompt_template = \"\"\"Follow the following set of instructions that describes a task:\n",
    "1. Use the following pieces of context to extract an answer to the question at the end.\n",
    "2. Do not add any explaination/justification for answers and do not attempt to asnwer more than than what is asked.\n",
    "3. Do not add anything out of the given context.\n",
    "\n",
    "Context: {context}\n",
    "\n",
    "Question: {question}\n",
    "Answer:\"\"\"\n",
    "PROMPT = PromptTemplate(\n",
    "    template=prompt_template, input_variables=[\"context\", \"question\"]\n",
    ")"
   ]
  },
  {
   "cell_type": "code",
   "execution_count": 11,
   "metadata": {},
   "outputs": [
    {
     "name": "stdout",
     "output_type": "stream",
     "text": [
      "------- Prompt Begin -------\n",
      "Follow the following set of instructions that describes a task:\n",
      "1. Use the following pieces of context to extract an answer to the question at the end.\n",
      "2. Do not add any explaination/justification for answers and do not attempt to asnwer more than than what is asked.\n",
      "3. Do not add anything out of the given context.\n",
      "\n",
      "Context: CONTEXT\n",
      "\n",
      "Question: What is Global Warming?\n",
      "Answer:\n",
      "------- Prompt End -------\n"
     ]
    }
   ],
   "source": [
    "print (\"------- Prompt Begin -------\")\n",
    "\n",
    "final_prompt = PROMPT.format(context='CONTEXT', question=\"What is Global Warming?\")\n",
    "print(final_prompt)\n",
    "\n",
    "print (\"------- Prompt End -------\")"
   ]
  },
  {
   "cell_type": "code",
   "execution_count": 12,
   "metadata": {},
   "outputs": [
    {
     "name": "stderr",
     "output_type": "stream",
     "text": [
      "/home/apurva/anaconda3/envs/nlp/lib/python3.10/site-packages/langchain_core/_api/deprecation.py:117: LangChainDeprecationWarning: The function `__call__` was deprecated in LangChain 0.1.0 and will be removed in 0.2.0. Use invoke instead.\n",
      "  warn_deprecated(\n"
     ]
    },
    {
     "name": "stdout",
     "output_type": "stream",
     "text": [
      "\n",
      "\n",
      "\u001b[1m> Entering new StuffDocumentsChain chain...\u001b[0m\n",
      "\n",
      "\n",
      "\u001b[1m> Entering new LLMChain chain...\u001b[0m\n",
      "Prompt after formatting:\n",
      "\u001b[32;1m\u001b[1;3mFollow the following set of instructions that describes a task:\n",
      "1. Use the following pieces of context to extract an answer to the question at the end.\n",
      "2. Do not add any explaination/justification for answers and do not attempt to asnwer more than than what is asked.\n",
      "3. Do not add anything out of the given context.\n",
      "\n",
      "Context: also brings climate change and pollution with it. Industrialization is a major cause of the emission of \n",
      "not just carbon -containing gases but also poisonous gases like monoxide which ca n cause cancer, it \n",
      "is also a significant reason for overpopulation and deforestation since it needs thousands of acres \n",
      "of land to set up the industry.  \n",
      "Waste Disposal  \n",
      "Improper disposal of solid waste directly contributes to the greenhouse effect since it produces high \n",
      "amounts of methane and nitrous oxides which eventually increases the temperature of the planet.   \n",
      "Effects of Global Warming   \n",
      "Scientists all over the world are making predictions about the negative impacts of global warming \n",
      "and linking some of the events of the last few decades to the alarming implications of global \n",
      "warming.   \n",
      "• On Oceans : The average temperature of the globe is rising as a result of global warming. A \n",
      "rise in global temperatures can lead to additional changes in the environment, su ch as rising \n",
      "sea levels. Since an increase in the temperature causes the glaciers and icebergs to melt at \n",
      "a rapid pace, it causes the sea levels to rise  \n",
      "• On the Weather : Global Warming causes intense heat waves by significantly increasing the \n",
      "temperature wh ich disbalances the proportion of temperature in different areas. It creates \n",
      "disasters like droughts, floods and whatnot. It also contributes to hot days and nights, not \n",
      "just that it is a significant reason for frequent wildfires.   \n",
      "• On Humans : Immense heat waves or chilling cold nights affect humans since our bodies \n",
      "can't seem to adapt quickly which makes us fall sick very often and hampers our immunity. Also, disasters like floods and droughts affect the food supply, hampering our day -to-day \n",
      "lives.   \n",
      "• On Biod iversity : Just like humans, animals and plants also need time to adapt and an \n",
      "imbalanced atmosphere only causes problems for them. Extreme temperatures can kill an \n",
      "\n",
      "GLOBAL WARMING  \n",
      "Our planet Earth is home to innumerable species of both flora and fauna, but out of all, it is home to \n",
      "one of the most intelligent and devastating species which is us, humans. As much as we are \n",
      "important to utilise and protect the weak in the world, we are also causing irreparable damage to the \n",
      "world. Many climate scientists believe that without significant reductions in greenhouse gas \n",
      "emissions, the 21st century will see temperatures rise by 3 to 8 degrees, climatic patterns piercingly \n",
      "alter, ice sheets collapse, and seas rise several feet.   \n",
      "With the possible exception of another world war, a massive asteroid, a deadly pandemic, or global \n",
      "warming may be the only threats to our planet. The release of greenhouse gases such as carbon \n",
      "dioxid e, methane, and nitrous oxide into the atmosphere is the primary driver of global warming. \n",
      "Power plants are the primary generator of carbon dioxide.  A rise in the average temperature of the \n",
      "earth's surface, especially one that is long enough to produce  climate change , is referred to as global \n",
      "warming. Since 1900, the global average façade temperature has risen by more than a degree, and \n",
      "the rate of warming has been nearly three times the century -long average since 1970.   \n",
      "Global warming refers to an increase in the earth's average temperature. Almost all experts \n",
      "examining the earth's climate record now agree that human actions, particularly the emission of \n",
      "greenhouse gases from smokesta cks, cars, and burning forests, are likely the most powerful force \n",
      "driving the trend. The gases add to the planet's natural greenhouse effect, allowing sunlight to enter \n",
      "but preventing some of the heat from being radiated back into space.  \n",
      "CAUSE’S OF GLOBAL  WARMING  \n",
      "There are various causes of global warming which are leading the earth towards destruction. \n",
      "Knowing these causes will help us to know the root problems and help us eradicate the issue of \n",
      "\n",
      "greenhouse gases from smokesta cks, cars, and burning forests, are likely the most powerful force \n",
      "driving the trend. The gases add to the planet's natural greenhouse effect, allowing sunlight to enter \n",
      "but preventing some of the heat from being radiated back into space.  \n",
      "CAUSE’S OF GLOBAL  WARMING  \n",
      "There are various causes of global warming which are leading the earth towards destruction. \n",
      "Knowing these causes will help us to know the root problems and help us eradicate the issue of \n",
      "global warming sooner. Given below are some causes of globa l warming.   \n",
      "Greenhouse Gases  \n",
      "Large amounts of carbon dioxide are emitted by these power plants as a result of the combustion of \n",
      "fossil fuels for electricity generation. About a quarter of the carbon dioxide released into the \n",
      "atmosphere comes from the combu stion of gasoline in automobile engines.   \n",
      "Buildings, both commercial and residential, contribute more to global warming pollution than \n",
      "automobiles and trucks. The construction of these structures necessitates the burning of a \n",
      "considerable amount of fuel, w hich releases a significant amount of carbon dioxide into the \n",
      "environment.  \n",
      "Also read article on  green house gases  to know more about the topic.  \n",
      " Deforestation  \n",
      "Deforestati on, which is caused by the cutting and burning of forests for the sake of dwelling and \n",
      "Industrialisation is another source of global warming. As we move towards modernisation and the \n",
      "era of advancing technology, we are becoming more and more apathetic towa rds our own nature \n",
      "and planet which is leading us towards wiping out large patches of trees that provide us with the basic thing to live which is oxygen. This action of wiping out trees with absolutely no remorse has \n",
      "become a significantly irreversible cau se of global warming.   \n",
      "Burning of Fossil Fuels  \n",
      "Fossil fuels are formed from the decomposition of carbon -based organisms that have been buried \n",
      "\n",
      "Question: What the causes of Global Warming?\n",
      "Answer:\u001b[0m\n",
      "\n",
      "\u001b[1m> Finished chain.\u001b[0m\n",
      "\n",
      "\u001b[1m> Finished chain.\u001b[0m\n"
     ]
    },
    {
     "data": {
      "text/plain": [
       "{'query': 'What the causes of Global Warming?',\n",
       " 'result': ' Based on the provided text, the main causes of global warming are:\\nEmission of greenhouse gases from smoke stacks, cars, and burning forests.\\nDeforestation.\\nBurning of fossil fuels.'}"
      ]
     },
     "execution_count": 12,
     "metadata": {},
     "output_type": "execute_result"
    }
   ],
   "source": [
    "# llm = OpenAI(model_name=\"gpt-3.5-turbo-instruct\", temperature=0.1, max_tokens=-1)\n",
    "\n",
    "qa = RetrievalQA.from_chain_type(\n",
    "    llm=llm,\n",
    "    chain_type=\"stuff\",\n",
    "    retriever=retriever,\n",
    "    return_source_documents=False,\n",
    "    chain_type_kwargs={\"prompt\": PROMPT, \"verbose\": True})\n",
    "\n",
    "query = \"What are the causes of Global Warming?\"\n",
    "result = qa({\"query\": query})\n",
    "result"
   ]
  },
  {
   "cell_type": "code",
   "execution_count": 13,
   "metadata": {},
   "outputs": [],
   "source": [
    "from langchain.prompts import PromptTemplate\n",
    "\n",
    "# Build prompt\n",
    "prompt_template = \"\"\"Follow the following set of instructions that describes a task:\n",
    "1. Use the context and the chat history provided below to answer to the question at the end.\n",
    "2. Do not add any explaination/justification for answers and do not attempt to asnwer more than than what is asked.\n",
    "3. Do not add anything out of the given context.\n",
    "\n",
    "Context:\n",
    "{context}\n",
    "\n",
    "Question: {question}\n",
    "Answer:\"\"\"\n",
    "CHAT_PROMPT = PromptTemplate(\n",
    "    template=prompt_template, input_variables=[\"context\", \"question\"]\n",
    ")"
   ]
  },
  {
   "cell_type": "code",
   "execution_count": 14,
   "metadata": {},
   "outputs": [
    {
     "name": "stdout",
     "output_type": "stream",
     "text": [
      "------- Prompt Begin -------\n",
      "Follow the following set of instructions that describes a task:\n",
      "1. Use the context and the chat history provided below to answer to the question at the end.\n",
      "2. Do not add any explaination/justification for answers and do not attempt to asnwer more than than what is asked.\n",
      "3. Do not add anything out of the given context.\n",
      "\n",
      "Context:\n",
      "CONTEXT\n",
      "\n",
      "Question: What is Global Warming?\n",
      "Answer:\n",
      "------- Prompt End -------\n"
     ]
    }
   ],
   "source": [
    "print (\"------- Prompt Begin -------\")\n",
    "\n",
    "final_prompt = CHAT_PROMPT.format(context='CONTEXT', chat_history=\"HISTORY\", question=\"What is Global Warming?\")\n",
    "print(final_prompt)\n",
    "\n",
    "print (\"------- Prompt End -------\")"
   ]
  },
  {
   "cell_type": "code",
   "execution_count": 17,
   "metadata": {},
   "outputs": [],
   "source": [
    "from langchain.chains import ConversationalRetrievalChain, LLMChain, StuffDocumentsChain\n",
    "from langchain.memory import ConversationBufferWindowMemory\n",
    "from src.prompt_templates import (\n",
    "    # the QA prompt\n",
    "    DEFAULT_PROMPT_TEMPLATE,\n",
    "    # the condense question prompt\n",
    "    DEFAULT_CHAT_HISTORY_PROMPT,\n",
    ")\n",
    "\n",
    "memory_chain = ConversationBufferWindowMemory(\n",
    "    memory_key=\"chat_history\", input_key=\"question\", output_key=\"answer\", return_messages=True, k=2\n",
    ")\n",
    "\n",
    "# qa = ConversationalRetrievalChain.from_llm(\n",
    "#     llm=llm,\n",
    "#     retriever=retriever,\n",
    "#     memory=memory_chain,\n",
    "#     return_source_documents=True,\n",
    "#     # get_chat_history=_get_chat_history,\n",
    "#     # condense_question_prompt=CHAT_PROMPT,\n",
    "#     combine_docs_chain_kwargs = {\"prompt\": CHAT_PROMPT},\n",
    "#     chain_type=\"stuff\",  # 'refine',\n",
    "#     output_key='answer',\n",
    "#     verbose=True\n",
    "# )\n",
    "qa = ConversationalRetrievalChain.from_llm(\n",
    "    llm=llm,\n",
    "    retriever=retriever,\n",
    "    memory=memory_chain,\n",
    "    return_source_documents=True,\n",
    "    # get_chat_history=_get_chat_history,\n",
    "    condense_question_llm = llm,\n",
    "    condense_question_prompt=DEFAULT_CHAT_HISTORY_PROMPT,\n",
    "    combine_docs_chain_kwargs = {\"prompt\": DEFAULT_PROMPT_TEMPLATE},    # the LLMChain prompt to get the answer\n",
    "    chain_type=\"stuff\",  # 'refine',\n",
    "    output_key='answer',\n",
    "    verbose=True\n",
    ")"
   ]
  },
  {
   "cell_type": "code",
   "execution_count": 18,
   "metadata": {},
   "outputs": [
    {
     "name": "stdout",
     "output_type": "stream",
     "text": [
      "\n",
      "\n",
      "\u001b[1m> Entering new StuffDocumentsChain chain...\u001b[0m\n",
      "\n",
      "\n",
      "\u001b[1m> Entering new LLMChain chain...\u001b[0m\n",
      "Prompt after formatting:\n",
      "\u001b[32;1m\u001b[1;3mFollow the following set of instructions that describes a task:\n",
      "1. Use the context provided below to answer to the question at the end.\n",
      "2. Do not add any explaination/justification for answers and do not attempt to asnwer more than than what is asked.\n",
      "3. Do not add anything out of the given context.\n",
      "\n",
      "Context:\n",
      "GLOBAL WARMING  \n",
      "Our planet Earth is home to innumerable species of both flora and fauna, but out of all, it is home to \n",
      "one of the most intelligent and devastating species which is us, humans. As much as we are \n",
      "important to utilise and protect the weak in the world, we are also causing irreparable damage to the \n",
      "world. Many climate scientists believe that without significant reductions in greenhouse gas \n",
      "emissions, the 21st century will see temperatures rise by 3 to 8 degrees, climatic patterns piercingly \n",
      "alter, ice sheets collapse, and seas rise several feet.   \n",
      "With the possible exception of another world war, a massive asteroid, a deadly pandemic, or global \n",
      "warming may be the only threats to our planet. The release of greenhouse gases such as carbon \n",
      "dioxid e, methane, and nitrous oxide into the atmosphere is the primary driver of global warming. \n",
      "Power plants are the primary generator of carbon dioxide.  A rise in the average temperature of the \n",
      "earth's surface, especially one that is long enough to produce  climate change , is referred to as global \n",
      "warming. Since 1900, the global average façade temperature has risen by more than a degree, and \n",
      "the rate of warming has been nearly three times the century -long average since 1970.   \n",
      "Global warming refers to an increase in the earth's average temperature. Almost all experts \n",
      "examining the earth's climate record now agree that human actions, particularly the emission of \n",
      "greenhouse gases from smokesta cks, cars, and burning forests, are likely the most powerful force \n",
      "driving the trend. The gases add to the planet's natural greenhouse effect, allowing sunlight to enter \n",
      "but preventing some of the heat from being radiated back into space.  \n",
      "CAUSE’S OF GLOBAL  WARMING  \n",
      "There are various causes of global warming which are leading the earth towards destruction. \n",
      "Knowing these causes will help us to know the root problems and help us eradicate the issue of \n",
      "global warming sooner. Given below are some causes of globa l warming.   \n",
      "Greenhouse Gases  \n",
      "Large amounts of carbon dioxide are emitted by these power plants as a result of the combustion of \n",
      "fossil fuels for electricity generation. About a quarter of the carbon dioxide released into the \n",
      "atmosphere comes from the combu stion of gasoline in automobile engines.   \n",
      "Buildings, both commercial and residential, contribute more to global warming pollution than \n",
      "automobiles and trucks. The construction of these structures necessitates the burning of a \n",
      "\n",
      "and prevented from worsening at the individual level. Industries and multinational \n",
      "com panies, of course, emit more carbon than the typical citizen. Still, the only viable ways to \n",
      "control the growing status of Global Warming are activism and communal effort.   \n",
      "• Additionally, world leaders must develop real strategies and step programs at the s tate or \n",
      "government level to ensure that the environment is not harmed any further. Despite the fact \n",
      "that we are running out of time to limit the rate of global warming, it is critical to find the \n",
      "correct solution. Everyone, from individuals to governments,  must work to find a solution to \n",
      "Global Warming. Pollution control, population control, and natural resource utilization are \n",
      "just a few of the variables to consider. Together we will be able to put an end to this for \n",
      "sure.   \n",
      " \n",
      "SGT RAHUL RAVEENDRAN. A  \n",
      "GOVERNM ENT BRENNEN COLLEGE THALASSERY  1 KER ARTY BTY NCC  \n",
      "KL20SDA194221  \n",
      "KOZHIKODE GROUP  \n",
      "\n",
      "burning these fuels t o produce energy also emits the by -products of gases like carbon dioxide and \n",
      "monoxide which causes global warming.   \n",
      "Industrialization  \n",
      "Industrialization can be termed as the head of all causes since it acts as a major contributor to \n",
      "global warming. As much as industrialization brings employment and investment into a nation, it \n",
      "also brings climate change and pollution with it. Industrialization is a major cause of the emission of \n",
      "not just carbon -containing gases but also poisonous gases like monoxide which ca n cause cancer, it \n",
      "is also a significant reason for overpopulation and deforestation since it needs thousands of acres \n",
      "of land to set up the industry.  \n",
      "Waste Disposal  \n",
      "Improper disposal of solid waste directly contributes to the greenhouse effect since it produces high \n",
      "amounts of methane and nitrous oxides which eventually increases the temperature of the planet.   \n",
      "Effects of Global Warming   \n",
      "Scientists all over the world are making predictions about the negative impacts of global warming \n",
      "and linking some of the events of the last few decades to the alarming implications of global \n",
      "warming.   \n",
      "• On Oceans : The average temperature of the globe is rising as a result of global warming. A \n",
      "rise in global temperatures can lead to additional changes in the environment, su ch as rising \n",
      "sea levels. Since an increase in the temperature causes the glaciers and icebergs to melt at \n",
      "a rapid pace, it causes the sea levels to rise  \n",
      "• On the Weather : Global Warming causes intense heat waves by significantly increasing the \n",
      "temperature wh ich disbalances the proportion of temperature in different areas. It creates \n",
      "disasters like droughts, floods and whatnot. It also contributes to hot days and nights, not \n",
      "just that it is a significant reason for frequent wildfires.   \n",
      "• On Humans : Immense heat waves or chilling cold nights affect humans since our bodies \n",
      "can't seem to adapt quickly which makes us fall sick very often and hampers our immunity. Also, disasters like floods and droughts affect the food supply, hampering our day -to-day \n",
      "lives.   \n",
      "• On Biod iversity : Just like humans, animals and plants also need time to adapt and an \n",
      "imbalanced atmosphere only causes problems for them. Extreme temperatures can kill an \n",
      "animal or a plant if they haven't been in habit of the harsh conditions.   \n",
      "Solutions for Glob al Warming  \n",
      "In order to eradicate the problem of Global Warming, we need to take the necessary steps. Some of \n",
      "\n",
      "Question: What are the effects of global warming?\n",
      "Answer:\u001b[0m\n",
      "\n",
      "\u001b[1m> Finished chain.\u001b[0m\n",
      "\n",
      "\u001b[1m> Finished chain.\u001b[0m\n"
     ]
    },
    {
     "data": {
      "text/plain": [
       "{'question': 'What are the effects of global warming?',\n",
       " 'chat_history': [],\n",
       " 'answer': ' Global warming leads to severe weather conditions including heavy rainfall, snowfall, and storms.',\n",
       " 'source_documents': [Document(page_content=\"GLOBAL WARMING  \\nOur planet Earth is home to innumerable species of both flora and fauna, but out of all, it is home to \\none of the most intelligent and devastating species which is us, humans. As much as we are \\nimportant to utilise and protect the weak in the world, we are also causing irreparable damage to the \\nworld. Many climate scientists believe that without significant reductions in greenhouse gas \\nemissions, the 21st century will see temperatures rise by 3 to 8 degrees, climatic patterns piercingly \\nalter, ice sheets collapse, and seas rise several feet.   \\nWith the possible exception of another world war, a massive asteroid, a deadly pandemic, or global \\nwarming may be the only threats to our planet. The release of greenhouse gases such as carbon \\ndioxid e, methane, and nitrous oxide into the atmosphere is the primary driver of global warming. \\nPower plants are the primary generator of carbon dioxide.  A rise in the average temperature of the \\nearth's surface, especially one that is long enough to produce  climate change , is referred to as global \\nwarming. Since 1900, the global average façade temperature has risen by more than a degree, and \\nthe rate of warming has been nearly three times the century -long average since 1970.   \\nGlobal warming refers to an increase in the earth's average temperature. Almost all experts \\nexamining the earth's climate record now agree that human actions, particularly the emission of \\ngreenhouse gases from smokesta cks, cars, and burning forests, are likely the most powerful force \\ndriving the trend. The gases add to the planet's natural greenhouse effect, allowing sunlight to enter \\nbut preventing some of the heat from being radiated back into space.  \\nCAUSE’S OF GLOBAL  WARMING  \\nThere are various causes of global warming which are leading the earth towards destruction. \\nKnowing these causes will help us to know the root problems and help us eradicate the issue of \\nglobal warming sooner. Given below are some causes of globa l warming.   \\nGreenhouse Gases  \\nLarge amounts of carbon dioxide are emitted by these power plants as a result of the combustion of \\nfossil fuels for electricity generation. About a quarter of the carbon dioxide released into the \\natmosphere comes from the combu stion of gasoline in automobile engines.   \\nBuildings, both commercial and residential, contribute more to global warming pollution than \\nautomobiles and trucks. The construction of these structures necessitates the burning of a \"),\n",
       "  Document(page_content='and prevented from worsening at the individual level. Industries and multinational \\ncom panies, of course, emit more carbon than the typical citizen. Still, the only viable ways to \\ncontrol the growing status of Global Warming are activism and communal effort.   \\n• Additionally, world leaders must develop real strategies and step programs at the s tate or \\ngovernment level to ensure that the environment is not harmed any further. Despite the fact \\nthat we are running out of time to limit the rate of global warming, it is critical to find the \\ncorrect solution. Everyone, from individuals to governments,  must work to find a solution to \\nGlobal Warming. Pollution control, population control, and natural resource utilization are \\njust a few of the variables to consider. Together we will be able to put an end to this for \\nsure.   \\n \\nSGT RAHUL RAVEENDRAN. A  \\nGOVERNM ENT BRENNEN COLLEGE THALASSERY  1 KER ARTY BTY NCC  \\nKL20SDA194221  \\nKOZHIKODE GROUP  '),\n",
       "  Document(page_content=\"burning these fuels t o produce energy also emits the by -products of gases like carbon dioxide and \\nmonoxide which causes global warming.   \\nIndustrialization  \\nIndustrialization can be termed as the head of all causes since it acts as a major contributor to \\nglobal warming. As much as industrialization brings employment and investment into a nation, it \\nalso brings climate change and pollution with it. Industrialization is a major cause of the emission of \\nnot just carbon -containing gases but also poisonous gases like monoxide which ca n cause cancer, it \\nis also a significant reason for overpopulation and deforestation since it needs thousands of acres \\nof land to set up the industry.  \\nWaste Disposal  \\nImproper disposal of solid waste directly contributes to the greenhouse effect since it produces high \\namounts of methane and nitrous oxides which eventually increases the temperature of the planet.   \\nEffects of Global Warming   \\nScientists all over the world are making predictions about the negative impacts of global warming \\nand linking some of the events of the last few decades to the alarming implications of global \\nwarming.   \\n• On Oceans : The average temperature of the globe is rising as a result of global warming. A \\nrise in global temperatures can lead to additional changes in the environment, su ch as rising \\nsea levels. Since an increase in the temperature causes the glaciers and icebergs to melt at \\na rapid pace, it causes the sea levels to rise  \\n• On the Weather : Global Warming causes intense heat waves by significantly increasing the \\ntemperature wh ich disbalances the proportion of temperature in different areas. It creates \\ndisasters like droughts, floods and whatnot. It also contributes to hot days and nights, not \\njust that it is a significant reason for frequent wildfires.   \\n• On Humans : Immense heat waves or chilling cold nights affect humans since our bodies \\ncan't seem to adapt quickly which makes us fall sick very often and hampers our immunity. Also, disasters like floods and droughts affect the food supply, hampering our day -to-day \\nlives.   \\n• On Biod iversity : Just like humans, animals and plants also need time to adapt and an \\nimbalanced atmosphere only causes problems for them. Extreme temperatures can kill an \\nanimal or a plant if they haven't been in habit of the harsh conditions.   \\nSolutions for Glob al Warming  \\nIn order to eradicate the problem of Global Warming, we need to take the necessary steps. Some of \")]}"
      ]
     },
     "execution_count": 18,
     "metadata": {},
     "output_type": "execute_result"
    }
   ],
   "source": [
    "qa(\"What are the effects of global warming?\")"
   ]
  },
  {
   "cell_type": "code",
   "execution_count": 53,
   "metadata": {},
   "outputs": [],
   "source": []
  },
  {
   "cell_type": "code",
   "execution_count": 1,
   "metadata": {},
   "outputs": [
    {
     "name": "stderr",
     "output_type": "stream",
     "text": [
      "/home/apurva/anaconda3/envs/nlp/lib/python3.10/site-packages/tqdm/auto.py:21: TqdmWarning: IProgress not found. Please update jupyter and ipywidgets. See https://ipywidgets.readthedocs.io/en/stable/user_install.html\n",
      "  from .autonotebook import tqdm as notebook_tqdm\n"
     ]
    },
    {
     "name": "stdout",
     "output_type": "stream",
     "text": [
      "TheBloke/Llama-2-7b-Chat-GPTQ\n"
     ]
    },
    {
     "name": "stderr",
     "output_type": "stream",
     "text": [
      "CUDA extension not installed.\n"
     ]
    },
    {
     "name": "stdout",
     "output_type": "stream",
     "text": [
      "all-MiniLM-L6-v2\n"
     ]
    }
   ],
   "source": [
    "import logging\n",
    "from src.chat_engine import ChatBotModel\n",
    "\n",
    "logger = logging.getLogger(__name__)\n",
    "logger.setLevel(logging.DEBUG)\n",
    "\n",
    "chat_bot = ChatBotModel(logger, model_name=\"TheBloke/Llama-2-7b-Chat-GPTQ\", embedding_model_name=\"all-MiniLM-L6-v2\")"
   ]
  },
  {
   "cell_type": "code",
   "execution_count": 2,
   "metadata": {},
   "outputs": [
    {
     "name": "stdout",
     "output_type": "stream",
     "text": [
      "5\n"
     ]
    }
   ],
   "source": [
    "qa = chat_bot.create_qa_instance(file_path=\"./sample_pdf.pdf\")"
   ]
  },
  {
   "cell_type": "code",
   "execution_count": 4,
   "metadata": {},
   "outputs": [
    {
     "name": "stdout",
     "output_type": "stream",
     "text": [
      "\n",
      "\n",
      "\u001b[1m> Entering new LLMChain chain...\u001b[0m\n",
      "Prompt after formatting:\n",
      "\u001b[32;1m\u001b[1;3mGiven the following conversation and a follow up question, rephrase the follow up question to be a standalone question, in its original language.\n",
      "\n",
      "Chat History:\n",
      "\n",
      "Human: What are the effects of global warming?\n",
      "Assistant:  Global warming leads to severe weather conditions including heavy rainfall, snowfall, and storms.\n",
      "\n",
      "Follow Up Input: Can you elaborate your answer?\n",
      "Standalone question:\u001b[0m\n",
      "\n",
      "\u001b[1m> Finished chain.\u001b[0m\n",
      "\n",
      "\n",
      "\u001b[1m> Entering new StuffDocumentsChain chain...\u001b[0m\n",
      "\n",
      "\n",
      "\u001b[1m> Entering new LLMChain chain...\u001b[0m\n",
      "Prompt after formatting:\n",
      "\u001b[32;1m\u001b[1;3mFollow the following set of instructions that describes a task:\n",
      "1. Use the context provided below to answer to the question at the end.\n",
      "2. Do not add any explaination/justification for answers and do not attempt to asnwer more than than what is asked.\n",
      "3. Do not add anything out of the given context.\n",
      "\n",
      "Context:\n",
      "GLOBAL WARMING  \n",
      "Our planet Earth is home to innumerable species of both flora and fauna, but out of all, it is home to \n",
      "one of the most intelligent and devastating species which is us, humans. As much as we are \n",
      "important to utilise and protect the weak in the world, we are also causing irreparable damage to the \n",
      "world. Many climate scientists believe that without significant reductions in greenhouse gas \n",
      "emissions, the 21st century will see temperatures rise by 3 to 8 degrees, climatic patterns piercingly \n",
      "alter, ice sheets collapse, and seas rise several feet.   \n",
      "With the possible exception of another world war, a massive asteroid, a deadly pandemic, or global \n",
      "warming may be the only threats to our planet. The release of greenhouse gases such as carbon \n",
      "dioxid e, methane, and nitrous oxide into the atmosphere is the primary driver of global warming. \n",
      "Power plants are the primary generator of carbon dioxide.  A rise in the average temperature of the \n",
      "earth's surface, especially one that is long enough to produce  climate change , is referred to as global \n",
      "warming. Since 1900, the global average façade temperature has risen by more than a degree, and \n",
      "the rate of warming has been nearly three times the century -long average since 1970.   \n",
      "Global warming refers to an increase in the earth's average temperature. Almost all experts \n",
      "examining the earth's climate record now agree that human actions, particularly the emission of \n",
      "greenhouse gases from smokesta cks, cars, and burning forests, are likely the most powerful force \n",
      "driving the trend. The gases add to the planet's natural greenhouse effect, allowing sunlight to enter \n",
      "but preventing some of the heat from being radiated back into space.  \n",
      "CAUSE’S OF GLOBAL  WARMING  \n",
      "There are various causes of global warming which are leading the earth towards destruction. \n",
      "Knowing these causes will help us to know the root problems and help us eradicate the issue of \n",
      "global warming sooner. Given below are some causes of globa l warming.   \n",
      "Greenhouse Gases  \n",
      "Large amounts of carbon dioxide are emitted by these power plants as a result of the combustion of \n",
      "fossil fuels for electricity generation. About a quarter of the carbon dioxide released into the \n",
      "atmosphere comes from the combu stion of gasoline in automobile engines.   \n",
      "Buildings, both commercial and residential, contribute more to global warming pollution than \n",
      "automobiles and trucks. The construction of these structures necessitates the burning of a \n",
      "\n",
      "and prevented from worsening at the individual level. Industries and multinational \n",
      "com panies, of course, emit more carbon than the typical citizen. Still, the only viable ways to \n",
      "control the growing status of Global Warming are activism and communal effort.   \n",
      "• Additionally, world leaders must develop real strategies and step programs at the s tate or \n",
      "government level to ensure that the environment is not harmed any further. Despite the fact \n",
      "that we are running out of time to limit the rate of global warming, it is critical to find the \n",
      "correct solution. Everyone, from individuals to governments,  must work to find a solution to \n",
      "Global Warming. Pollution control, population control, and natural resource utilization are \n",
      "just a few of the variables to consider. Together we will be able to put an end to this for \n",
      "sure.   \n",
      " \n",
      "SGT RAHUL RAVEENDRAN. A  \n",
      "GOVERNM ENT BRENNEN COLLEGE THALASSERY  1 KER ARTY BTY NCC  \n",
      "KL20SDA194221  \n",
      "KOZHIKODE GROUP  \n",
      "\n",
      "burning these fuels t o produce energy also emits the by -products of gases like carbon dioxide and \n",
      "monoxide which causes global warming.   \n",
      "Industrialization  \n",
      "Industrialization can be termed as the head of all causes since it acts as a major contributor to \n",
      "global warming. As much as industrialization brings employment and investment into a nation, it \n",
      "also brings climate change and pollution with it. Industrialization is a major cause of the emission of \n",
      "not just carbon -containing gases but also poisonous gases like monoxide which ca n cause cancer, it \n",
      "is also a significant reason for overpopulation and deforestation since it needs thousands of acres \n",
      "of land to set up the industry.  \n",
      "Waste Disposal  \n",
      "Improper disposal of solid waste directly contributes to the greenhouse effect since it produces high \n",
      "amounts of methane and nitrous oxides which eventually increases the temperature of the planet.   \n",
      "Effects of Global Warming   \n",
      "Scientists all over the world are making predictions about the negative impacts of global warming \n",
      "and linking some of the events of the last few decades to the alarming implications of global \n",
      "warming.   \n",
      "• On Oceans : The average temperature of the globe is rising as a result of global warming. A \n",
      "rise in global temperatures can lead to additional changes in the environment, su ch as rising \n",
      "sea levels. Since an increase in the temperature causes the glaciers and icebergs to melt at \n",
      "a rapid pace, it causes the sea levels to rise  \n",
      "• On the Weather : Global Warming causes intense heat waves by significantly increasing the \n",
      "temperature wh ich disbalances the proportion of temperature in different areas. It creates \n",
      "disasters like droughts, floods and whatnot. It also contributes to hot days and nights, not \n",
      "just that it is a significant reason for frequent wildfires.   \n",
      "• On Humans : Immense heat waves or chilling cold nights affect humans since our bodies \n",
      "can't seem to adapt quickly which makes us fall sick very often and hampers our immunity. Also, disasters like floods and droughts affect the food supply, hampering our day -to-day \n",
      "lives.   \n",
      "• On Biod iversity : Just like humans, animals and plants also need time to adapt and an \n",
      "imbalanced atmosphere only causes problems for them. Extreme temperatures can kill an \n",
      "animal or a plant if they haven't been in habit of the harsh conditions.   \n",
      "Solutions for Glob al Warming  \n",
      "In order to eradicate the problem of Global Warming, we need to take the necessary steps. Some of \n",
      "\n",
      "Question:  How does global warming lead to severe weather conditions?\n",
      "Answer:\u001b[0m\n",
      "\n",
      "\u001b[1m> Finished chain.\u001b[0m\n",
      "\n",
      "\u001b[1m> Finished chain.\u001b[0m\n"
     ]
    },
    {
     "data": {
      "text/plain": [
       "{'question': 'Can you elaborate your answer?',\n",
       " 'chat_history': [HumanMessage(content='What are the effects of global warming?'),\n",
       "  AIMessage(content=' Global warming leads to severe weather conditions including heavy rainfall, snowfall, and storms.')],\n",
       " 'answer': \"  Due to global warming, there is a rise in the average temperature of the earth's surface, especially one that is long enough to produce climate change, is referred to as global warming. Since 1900, the global average face temperature has risen by more than a degree, and the rate of warming has been nearly three times the century-long average since 1970. This rise in temperature leads to severe weather conditions such as intense heat waves, heavy rainfall, and frequent wildfires.\",\n",
       " 'source_documents': [Document(page_content=\"GLOBAL WARMING  \\nOur planet Earth is home to innumerable species of both flora and fauna, but out of all, it is home to \\none of the most intelligent and devastating species which is us, humans. As much as we are \\nimportant to utilise and protect the weak in the world, we are also causing irreparable damage to the \\nworld. Many climate scientists believe that without significant reductions in greenhouse gas \\nemissions, the 21st century will see temperatures rise by 3 to 8 degrees, climatic patterns piercingly \\nalter, ice sheets collapse, and seas rise several feet.   \\nWith the possible exception of another world war, a massive asteroid, a deadly pandemic, or global \\nwarming may be the only threats to our planet. The release of greenhouse gases such as carbon \\ndioxid e, methane, and nitrous oxide into the atmosphere is the primary driver of global warming. \\nPower plants are the primary generator of carbon dioxide.  A rise in the average temperature of the \\nearth's surface, especially one that is long enough to produce  climate change , is referred to as global \\nwarming. Since 1900, the global average façade temperature has risen by more than a degree, and \\nthe rate of warming has been nearly three times the century -long average since 1970.   \\nGlobal warming refers to an increase in the earth's average temperature. Almost all experts \\nexamining the earth's climate record now agree that human actions, particularly the emission of \\ngreenhouse gases from smokesta cks, cars, and burning forests, are likely the most powerful force \\ndriving the trend. The gases add to the planet's natural greenhouse effect, allowing sunlight to enter \\nbut preventing some of the heat from being radiated back into space.  \\nCAUSE’S OF GLOBAL  WARMING  \\nThere are various causes of global warming which are leading the earth towards destruction. \\nKnowing these causes will help us to know the root problems and help us eradicate the issue of \\nglobal warming sooner. Given below are some causes of globa l warming.   \\nGreenhouse Gases  \\nLarge amounts of carbon dioxide are emitted by these power plants as a result of the combustion of \\nfossil fuels for electricity generation. About a quarter of the carbon dioxide released into the \\natmosphere comes from the combu stion of gasoline in automobile engines.   \\nBuildings, both commercial and residential, contribute more to global warming pollution than \\nautomobiles and trucks. The construction of these structures necessitates the burning of a \"),\n",
       "  Document(page_content='and prevented from worsening at the individual level. Industries and multinational \\ncom panies, of course, emit more carbon than the typical citizen. Still, the only viable ways to \\ncontrol the growing status of Global Warming are activism and communal effort.   \\n• Additionally, world leaders must develop real strategies and step programs at the s tate or \\ngovernment level to ensure that the environment is not harmed any further. Despite the fact \\nthat we are running out of time to limit the rate of global warming, it is critical to find the \\ncorrect solution. Everyone, from individuals to governments,  must work to find a solution to \\nGlobal Warming. Pollution control, population control, and natural resource utilization are \\njust a few of the variables to consider. Together we will be able to put an end to this for \\nsure.   \\n \\nSGT RAHUL RAVEENDRAN. A  \\nGOVERNM ENT BRENNEN COLLEGE THALASSERY  1 KER ARTY BTY NCC  \\nKL20SDA194221  \\nKOZHIKODE GROUP  '),\n",
       "  Document(page_content=\"burning these fuels t o produce energy also emits the by -products of gases like carbon dioxide and \\nmonoxide which causes global warming.   \\nIndustrialization  \\nIndustrialization can be termed as the head of all causes since it acts as a major contributor to \\nglobal warming. As much as industrialization brings employment and investment into a nation, it \\nalso brings climate change and pollution with it. Industrialization is a major cause of the emission of \\nnot just carbon -containing gases but also poisonous gases like monoxide which ca n cause cancer, it \\nis also a significant reason for overpopulation and deforestation since it needs thousands of acres \\nof land to set up the industry.  \\nWaste Disposal  \\nImproper disposal of solid waste directly contributes to the greenhouse effect since it produces high \\namounts of methane and nitrous oxides which eventually increases the temperature of the planet.   \\nEffects of Global Warming   \\nScientists all over the world are making predictions about the negative impacts of global warming \\nand linking some of the events of the last few decades to the alarming implications of global \\nwarming.   \\n• On Oceans : The average temperature of the globe is rising as a result of global warming. A \\nrise in global temperatures can lead to additional changes in the environment, su ch as rising \\nsea levels. Since an increase in the temperature causes the glaciers and icebergs to melt at \\na rapid pace, it causes the sea levels to rise  \\n• On the Weather : Global Warming causes intense heat waves by significantly increasing the \\ntemperature wh ich disbalances the proportion of temperature in different areas. It creates \\ndisasters like droughts, floods and whatnot. It also contributes to hot days and nights, not \\njust that it is a significant reason for frequent wildfires.   \\n• On Humans : Immense heat waves or chilling cold nights affect humans since our bodies \\ncan't seem to adapt quickly which makes us fall sick very often and hampers our immunity. Also, disasters like floods and droughts affect the food supply, hampering our day -to-day \\nlives.   \\n• On Biod iversity : Just like humans, animals and plants also need time to adapt and an \\nimbalanced atmosphere only causes problems for them. Extreme temperatures can kill an \\nanimal or a plant if they haven't been in habit of the harsh conditions.   \\nSolutions for Glob al Warming  \\nIn order to eradicate the problem of Global Warming, we need to take the necessary steps. Some of \")]}"
      ]
     },
     "execution_count": 4,
     "metadata": {},
     "output_type": "execute_result"
    }
   ],
   "source": [
    "qa(\"Can you elaborate your answer?\")"
   ]
  }
 ],
 "metadata": {
  "kernelspec": {
   "display_name": "nlp",
   "language": "python",
   "name": "python3"
  },
  "language_info": {
   "codemirror_mode": {
    "name": "ipython",
    "version": 3
   },
   "file_extension": ".py",
   "mimetype": "text/x-python",
   "name": "python",
   "nbconvert_exporter": "python",
   "pygments_lexer": "ipython3",
   "version": "3.10.13"
  }
 },
 "nbformat": 4,
 "nbformat_minor": 2
}
